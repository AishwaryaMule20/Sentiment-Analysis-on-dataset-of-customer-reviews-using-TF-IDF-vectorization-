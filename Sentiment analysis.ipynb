# Sentiment Analysis using TF-IDF and Logistic Regression (Larger Dataset)

import pandas as pd
from sklearn.model_selection import train_test_split
from sklearn.feature_extraction.text import TfidfVectorizer
from sklearn.linear_model import LogisticRegression
from sklearn.metrics import accuracy_score, classification_report, confusion_matrix

# Step 1: Create a larger synthetic dataset
data = {
    'review': [
        "Amazing product, totally satisfied!", "Worst experience ever.", "Very helpful and good quality.",
        "Not worth the price.", "Highly recommended for daily use.", "It broke within a week.",
        "Great value for money!", "Terrible customer support.", "Loved the packaging and delivery speed.",
        "Poor build quality, not happy.", "This is exactly what I needed.", "I want a refund right now.",
        "Fantastic experience overall!", "Won’t buy this again.", "Superb quality, excellent finish.",
        "It doesn’t work as described.", "Definitely buying again!", "Wasted my money.",
        "Five stars! Great job!", "Disappointing product.", "Highly impressed with the performance.",
        "Not useful at all.", "Perfect for gifting.", "Regret purchasing this.",
        "Smooth operation and classy look.", "Horrible design and cheap material.",
        "Just wow!", "Useless junk.", "Exceeded my expectations.", "Broke after first use.",
        "A must-buy item!", "Very bad packaging.", "Great experience!", "Defective piece received.",
        "Extremely happy with this purchase.", "The worst item I’ve ever bought.",
        "Good for beginners.", "Terrible instructions.", "Super fast delivery!", "Not recommended at all."
    ],
    'sentiment': [1,0,1,0,1,0,1,0,1,0,1,0,1,0,1,0,1,0,1,0,
                  1,0,1,0,1,0,1,0,1,0,1,0,1,0,1,0,1,0,1,0]
}

df = pd.DataFrame(data)

# Step 2: Split dataset into training and testing sets
X_train, X_test, y_train, y_test = train_test_split(df['review'], df['sentiment'], test_size=0.3, random_state=42)

# Step 3: TF-IDF Vectorization
vectorizer = TfidfVectorizer()
X_train_tfidf = vectorizer.fit_transform(X_train)
X_test_tfidf = vectorizer.transform(X_test)

# Step 4: Train Logistic Regression Model
model = LogisticRegression()
model.fit(X_train_tfidf, y_train)

# Step 5: Make Predictions
y_pred = model.predict(X_test_tfidf)

# Step 6: Evaluate Model
print("Accuracy: {:.2f}%".format(accuracy_score(y_test, y_pred) * 100))
print("\nClassification Report:\n", classification_report(y_test, y_pred, target_names=["Negative", "Positive"], zero_division=0))
print("\nConfusion Matrix:\n", confusion_matrix(y_test, y_pred))
